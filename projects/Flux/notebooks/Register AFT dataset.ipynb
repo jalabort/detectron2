{
 "cells": [
  {
   "cell_type": "markdown",
   "metadata": {},
   "source": [
    "# Register AFT dataset"
   ]
  },
  {
   "cell_type": "markdown",
   "metadata": {},
   "source": [
    "This notebook shows how to register the latest version of the American Football Tactical (AFT) dataset to `dectectron2`."
   ]
  },
  {
   "cell_type": "markdown",
   "metadata": {},
   "source": [
    "## Get the AFT dataset from `quilt3`"
   ]
  },
  {
   "cell_type": "markdown",
   "metadata": {},
   "source": [
    "Configure `quilt3` to look into our server and registry:"
   ]
  },
  {
   "cell_type": "code",
   "execution_count": null,
   "metadata": {
    "ExecuteTime": {
     "end_time": "2019-10-15T14:10:03.006185Z",
     "start_time": "2019-10-15T14:10:01.682858Z"
    }
   },
   "outputs": [],
   "source": [
    "import quilt3\n",
    "import pandas as pd\n",
    "\n",
    "\n",
    "# Commented lines only necessary the first time\n",
    "# quilt3.config('https://quilt3.hudltools.com/')\n",
    "# quilt3.login() \n",
    "quilt3.config(default_remote_registry='s3://hudlrd-datasets') "
   ]
  },
  {
   "cell_type": "markdown",
   "metadata": {},
   "source": [
    "Get the AFT dataset from `quilt3`:"
   ]
  },
  {
   "cell_type": "code",
   "execution_count": null,
   "metadata": {
    "ExecuteTime": {
     "end_time": "2019-10-15T14:10:04.547288Z",
     "start_time": "2019-10-15T14:10:03.009894Z"
    }
   },
   "outputs": [],
   "source": [
    "user = 'hudlrd'\n",
    "package = 'american_football_tactical'\n",
    "parquet = 'detections_df.parquet'\n",
    "\n",
    "pkg = quilt3.Package.install(\n",
    "    f'{user}/{package}', \n",
    "    registry=None,\n",
    "    top_hash=None\n",
    ")\n",
    "\n",
    "pkg[parquet].fetch()\n",
    "df = pd.read_parquet(parquet)"
   ]
  },
  {
   "cell_type": "code",
   "execution_count": null,
   "metadata": {
    "ExecuteTime": {
     "end_time": "2019-10-15T14:10:05.978348Z",
     "start_time": "2019-10-15T14:10:04.552087Z"
    }
   },
   "outputs": [],
   "source": [
    "pkg = quilt3.Package.install(\n",
    "    f'{user}/{package}', \n",
    "    registry=None,\n",
    "    top_hash=None\n",
    ")\n",
    "\n",
    "pkg[parquet].fetch()\n",
    "df = pd.read_parquet(parquet)"
   ]
  },
  {
   "cell_type": "code",
   "execution_count": null,
   "metadata": {
    "ExecuteTime": {
     "end_time": "2019-10-15T14:10:06.064679Z",
     "start_time": "2019-10-15T14:10:05.981882Z"
    }
   },
   "outputs": [],
   "source": [
    "print(\"# examples: \", len(df))\n",
    "\n",
    "df"
   ]
  },
  {
   "cell_type": "markdown",
   "metadata": {},
   "source": [
    "Clean up the dataframe:"
   ]
  },
  {
   "cell_type": "code",
   "execution_count": null,
   "metadata": {
    "ExecuteTime": {
     "end_time": "2019-10-15T14:10:16.659322Z",
     "start_time": "2019-10-15T14:10:16.531325Z"
    }
   },
   "outputs": [],
   "source": [
    "# Remove examples tagged as not match frames\n",
    "aux_df = df\n",
    "df = df[df.notMatchFrame == False]\n",
    "print('# examples removed by notMatchFrame filtering: ', len(aux_df) - len(df))\n",
    "\n",
    "# Remove examples with null boxes or labels\n",
    "aux_df = df\n",
    "df = df[~df.bbxs.isnull()]\n",
    "df = df[~df.labels.isnull()]\n",
    "print('# examples removed by isnull filtering: ', len(aux_df) - len(df))\n",
    "\n",
    "# Remove examples with no boxes or labels\n",
    "aux_df = df\n",
    "df = df[df.bbxs.map(lambda d: len(d)) > 0]\n",
    "df = df[df.labels.map(lambda d: len(d)) > 0]\n",
    "print('# examples removed by empty box or label list filtering: ', len(aux_df) - len(df))\n",
    "\n",
    "# Remove invalid bounding boxes where width or height are smaller or equak than \n",
    "aux_df = df\n",
    "df = df[df.bbxs.map(lambda bbxs: len(set([True for b in bbxs if b[2] <= 0 or b[3] <= 0]))) == 0]\n",
    "print('# examples removed by invalid box filtering: ', len(aux_df) - len(df))\n",
    "\n",
    "# Reset dataframe indices\n",
    "df = df.reset_index(drop=True)"
   ]
  },
  {
   "cell_type": "code",
   "execution_count": null,
   "metadata": {
    "ExecuteTime": {
     "end_time": "2019-10-15T14:10:19.673027Z",
     "start_time": "2019-10-15T14:10:19.583475Z"
    }
   },
   "outputs": [],
   "source": [
    "print('# examples: ', len(df))\n",
    "\n",
    "df"
   ]
  },
  {
   "cell_type": "markdown",
   "metadata": {
    "ExecuteTime": {
     "end_time": "2019-10-15T13:15:09.455320Z",
     "start_time": "2019-10-15T13:15:09.440272Z"
    }
   },
   "source": [
    "At this point is probably a good idea to save the dataset's images to the local machine and update the data frame accordingly:"
   ]
  },
  {
   "cell_type": "code",
   "execution_count": null,
   "metadata": {
    "ExecuteTime": {
     "end_time": "2019-10-15T14:10:20.055211Z",
     "start_time": "2019-10-15T14:10:20.038829Z"
    }
   },
   "outputs": [],
   "source": [
    "import shutil\n",
    "import requests\n",
    "from pathlib import Path\n",
    "from concurrent.futures import ThreadPoolExecutor\n",
    "\n",
    "\n",
    "cache = Path('/root/cvdev/aft_images/')\n",
    "cache.mkdir(parents=True, exist_ok=True)\n",
    "\n",
    "\n",
    "def save_df_images(df):\n",
    "    def save_df_image(i):\n",
    "        local_path = cache / f\"{str(i).zfill(4)}.png\"\n",
    "        if not local_path.exists():\n",
    "            with open(local_path, 'wb') as f:\n",
    "                response = requests.get(df.at[i, 'path'], stream=True)\n",
    "                shutil.copyfileobj(response.raw, f)\n",
    "        df.at[i, 'path'] = str(local_path.absolute())\n",
    "\n",
    "    with ThreadPoolExecutor() as executor:\n",
    "        list(executor.map(save_df_image, range(len(df))))"
   ]
  },
  {
   "cell_type": "code",
   "execution_count": null,
   "metadata": {
    "ExecuteTime": {
     "end_time": "2019-10-15T14:10:20.943298Z",
     "start_time": "2019-10-15T14:10:20.203823Z"
    }
   },
   "outputs": [],
   "source": [
    "save_df_images(df)"
   ]
  },
  {
   "cell_type": "code",
   "execution_count": null,
   "metadata": {
    "ExecuteTime": {
     "end_time": "2019-10-15T14:10:21.034900Z",
     "start_time": "2019-10-15T14:10:20.946572Z"
    }
   },
   "outputs": [],
   "source": [
    "df"
   ]
  },
  {
   "cell_type": "markdown",
   "metadata": {},
   "source": [
    "## Register the AFT dataset to `detectron2`"
   ]
  },
  {
   "cell_type": "markdown",
   "metadata": {},
   "source": [
    "Get the dataset's unique labels:"
   ]
  },
  {
   "cell_type": "code",
   "execution_count": null,
   "metadata": {
    "ExecuteTime": {
     "end_time": "2019-10-15T14:10:21.540818Z",
     "start_time": "2019-10-15T14:10:21.526437Z"
    }
   },
   "outputs": [],
   "source": [
    "unique_labels = set()\n",
    "\n",
    "for labels in df[\"labels\"]:\n",
    "    if labels is not None:\n",
    "        unique_labels.update(labels)\n",
    "\n",
    "unique_labels = list(unique_labels)\n",
    "        \n",
    "print(\"Unique labels:\", unique_labels)"
   ]
  },
  {
   "cell_type": "markdown",
   "metadata": {},
   "source": [
    "Define the `get_dicts` function that will return the items in our dataset in the format expected by `detectron2`:"
   ]
  },
  {
   "cell_type": "code",
   "execution_count": null,
   "metadata": {
    "ExecuteTime": {
     "end_time": "2019-10-15T14:10:22.279270Z",
     "start_time": "2019-10-15T14:10:21.544302Z"
    }
   },
   "outputs": [],
   "source": [
    "import numpy as np\n",
    "from detectron2.structures import BoxMode\n",
    "\n",
    "\n",
    "def get_dicts(df, partition):\n",
    "    df = df[df.set_split_random == partition]\n",
    "    \n",
    "    records = []\n",
    "    for i, row in df.iterrows():\n",
    "        record = {}\n",
    "        record[\"file_name\"] = row['path']\n",
    "        record[\"image_id\"] = i\n",
    "        record[\"height\"] = 2000\n",
    "        record[\"width\"] = 2666\n",
    "\n",
    "        annotations = []\n",
    "        for bbox, label in zip(row[\"bbxs\"], row[\"labels\"]):\n",
    "            ann = {}\n",
    "            bbox = bbox * np.asanyarray([record[\"width\"], record[\"height\"]] * 2)\n",
    "            ann[\"bbox\"] = bbox.tolist()\n",
    "            ann[\"bbox_mode\"] = BoxMode.XYWH_ABS\n",
    "            ann[\"category_id\"] = unique_labels.index(label)\n",
    "            annotations.append(ann)\n",
    "\n",
    "        record[\"annotations\"] =  annotations\n",
    "        records.append(record)\n",
    "    \n",
    "    return records"
   ]
  },
  {
   "cell_type": "code",
   "execution_count": null,
   "metadata": {
    "ExecuteTime": {
     "end_time": "2019-10-15T14:10:23.160684Z",
     "start_time": "2019-10-15T14:10:22.282530Z"
    }
   },
   "outputs": [],
   "source": [
    "print(\"# examples in train:\", len(get_dicts(df, \"train\")))\n",
    "print(\"# examples in dev:\", len(get_dicts(df, \"dev\")))\n",
    "print(\"# examples in test:\", len(get_dicts(df, \"test\")))"
   ]
  },
  {
   "cell_type": "markdown",
   "metadata": {},
   "source": [
    "Tell `detectron2` about the previous function:"
   ]
  },
  {
   "cell_type": "code",
   "execution_count": null,
   "metadata": {
    "ExecuteTime": {
     "end_time": "2019-10-15T14:10:23.212071Z",
     "start_time": "2019-10-15T14:10:23.163115Z"
    }
   },
   "outputs": [],
   "source": [
    "from detectron2.data import DatasetCatalog, MetadataCatalog\n",
    "\n",
    "\n",
    "for partition in [\"train\", \"dev\", \"test\"]:\n",
    "    DatasetCatalog.register(\n",
    "        f\"AmericanFootballTactical/{partition}\", \n",
    "        lambda partition = partition: get_dicts(df, partition)\n",
    "    )\n",
    "    MetadataCatalog.get(\n",
    "        f\"AmericanFootballTactical/{partition}\"\n",
    "    ).set(thing_classes=unique_labels)"
   ]
  },
  {
   "cell_type": "markdown",
   "metadata": {},
   "source": [
    "Make sure the dataset has been correctly registered:"
   ]
  },
  {
   "cell_type": "code",
   "execution_count": null,
   "metadata": {
    "ExecuteTime": {
     "end_time": "2019-10-15T14:10:26.924720Z",
     "start_time": "2019-10-15T14:10:23.214869Z"
    }
   },
   "outputs": [],
   "source": [
    "DatasetCatalog.get('AmericanFootballTactical/train')"
   ]
  },
  {
   "cell_type": "markdown",
   "metadata": {},
   "source": [
    "Finally, let us plot some of the dataset's data:"
   ]
  },
  {
   "cell_type": "code",
   "execution_count": null,
   "metadata": {
    "ExecuteTime": {
     "end_time": "2019-10-15T14:10:33.641396Z",
     "start_time": "2019-10-15T14:10:26.928244Z"
    },
    "scrolled": false
   },
   "outputs": [],
   "source": [
    "%matplotlib inline\n",
    "import matplotlib.pyplot as plt\n",
    "\n",
    "import random\n",
    "import requests\n",
    "from PIL import Image, ImageFile\n",
    "from detectron2.utils.visualizer import Visualizer\n",
    "\n",
    "\n",
    "figsize = (16, 12)\n",
    "ImageFile.LOAD_TRUNCATED_IMAGES = True\n",
    "\n",
    "metadata = MetadataCatalog.get(\"AmericanFootballTactical/train\")\n",
    "records = get_dicts(df, \"train\")\n",
    "\n",
    "for i, r in enumerate(random.sample(records, 5)):\n",
    "#     img = Image.open(requests.get(r[\"file_name\"], stream=True).raw)\n",
    "    img = Image.open(r[\"file_name\"])\n",
    "    img = np.asanyarray(img)\n",
    "    \n",
    "    visualizer = Visualizer(img, metadata=metadata, scale=0.5)\n",
    "    vis = visualizer.draw_dataset_dict(r)\n",
    "    \n",
    "    plt.figure(i, figsize=figsize)\n",
    "    plt.imshow(vis.get_image())"
   ]
  }
 ],
 "metadata": {
  "kernelspec": {
   "display_name": "Python 3",
   "language": "python",
   "name": "python3"
  },
  "language_info": {
   "codemirror_mode": {
    "name": "ipython",
    "version": 3
   },
   "file_extension": ".py",
   "mimetype": "text/x-python",
   "name": "python",
   "nbconvert_exporter": "python",
   "pygments_lexer": "ipython3",
   "version": "3.6.8"
  },
  "toc": {
   "base_numbering": 1,
   "nav_menu": {},
   "number_sections": true,
   "sideBar": true,
   "skip_h1_title": false,
   "title_cell": "Table of Contents",
   "title_sidebar": "Contents",
   "toc_cell": false,
   "toc_position": {},
   "toc_section_display": true,
   "toc_window_display": false
  }
 },
 "nbformat": 4,
 "nbformat_minor": 1
}
